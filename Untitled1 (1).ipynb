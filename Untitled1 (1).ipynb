{
  "nbformat": 4,
  "nbformat_minor": 0,
  "metadata": {
    "colab": {
      "provenance": []
    },
    "kernelspec": {
      "name": "python3",
      "display_name": "Python 3"
    },
    "language_info": {
      "name": "python"
    }
  },
  "cells": [
    {
      "cell_type": "markdown",
      "source": [
        "1. What is the difference between interpreted and compiled languages?  \n",
        "   Interpreted languages (like Python) run the code line by line. Compiled languages (like C++) convert the whole code to machine language first, then run it.\n",
        "\n",
        "2. What is exception handling in Python?  \n",
        "   It's a way to handle errors in the code using try and except blocks so the program doesn't crash.\n",
        "\n",
        "3. What is the purpose of the finally block in exception handling?  \n",
        "   finally block always runs, no matter what. It's used to clean up things like closing files.\n",
        "\n",
        "4. What is logging in Python?  \n",
        "   Logging means keeping records of what your program is doing, useful for debugging or tracking issues.\n",
        "\n",
        "5. What is the significance of the __del__ method in Python?  \n",
        "   __del__ is a special method that runs when an object is deleted. It's used to clean up or release resources.\n",
        "\n",
        "6. What is the difference between import and from ... import in Python?  \n",
        "   import brings in the whole module, and you use dot notation. from ... import brings specific parts directly.\n",
        "\n",
        "7. How can you handle multiple exceptions in Python?  \n",
        "   You can use multiple except blocks or catch many exceptions in one block using a tuple.\n",
        "\n",
        "8. What is the purpose of the with statement when handling files in Python?  \n",
        "   with makes sure the file is automatically closed after you're done using it, even if an error happens.\n",
        "\n",
        "9. What is the difference between multithreading and multiprocessing?  \n",
        "   Multithreading runs tasks in the same memory space. Multiprocessing runs them in separate memory. Use threads for I/O tasks, processes for heavy work.\n",
        "\n",
        "10. What are the advantages of using logging in a program?  \n",
        "   Logging helps you understand what’s going wrong and what’s happening inside your program during execution.\n",
        "\n",
        "11. What is memory management in Python?  \n",
        "   Python handles memory automatically. It allocates memory when needed and frees it when not used.\n",
        "\n",
        "12. What are the basic steps involved in exception handling in Python?  \n",
        "   Use try to write risky code, except to catch errors, else to run if no error, and finally to always run.\n",
        "\n",
        "13. Why is memory management important in Python?  \n",
        "   To make sure your program runs smoothly without using too much memory or crashing.\n",
        "\n",
        "14. What is the role of try and except in exception handling?  \n",
        "   try lets you run code that might cause an error. except catches the error and prevents the program from crashing.\n",
        "\n",
        "15. How does Python's garbage collection system work?  \n",
        "   Python removes objects from memory when they’re no longer used using reference counting and a garbage collector.\n",
        "\n",
        "16. What is the purpose of the else block in exception handling?  \n",
        "   else runs only if no error happens in the try block.\n",
        "\n",
        "17. What are the common logging levels in Python?  \n",
        "   DEBUG, INFO, WARNING, ERROR, and CRITICAL – from least to most serious.\n",
        "\n",
        "18. What is the difference between os.fork() and multiprocessing in Python?  \n",
        "   os.fork() creates a child process (Unix only). multiprocessing works on all systems and is easier to use.\n",
        "\n",
        "19. What is the importance of closing a file in Python?  \n",
        "   It saves changes and frees up system resources.\n",
        "\n",
        "20. What is the difference between file.read() and file.readline() in Python?  \n",
        "   read() reads the whole file at once. readline() reads one line at a time.\n",
        "\n",
        "21. What is the logging module in Python used for?  \n",
        "   It's used to create logs that help you understand what your program is doing.\n",
        "\n",
        "22. What is the os module in Python used for in file handling?  \n",
        "   It helps you work with files, folders, and the operating system.\n",
        "\n",
        "23. What are the challenges associated with memory management in Python?  \n",
        "   Sometimes memory is not released quickly, especially when there are circular references.\n",
        "\n",
        "24. How do you raise an exception manually in Python?  \n",
        "   Use raise keyword like this: raise ValueError(\"something went wrong\").\n",
        "\n",
        "25. Why is it important to use multithreading in certain applications?  \n",
        "   It helps run multiple tasks at once, especially useful when waiting for input/output like files or network.\n",
        "\n",
        "\n",
        "\n",
        "\n",
        "\n",
        "              ** Practical Questions**"
      ],
      "metadata": {
        "id": "DsG1DNHQrtql"
      }
    },
    {
      "cell_type": "code",
      "source": [
        "# 1\n",
        "with open('file.txt', 'w') as f:\n",
        "   f.write(\"Hello, world!\")\n"
      ],
      "metadata": {
        "id": "3iRxePdhwfB-"
      },
      "execution_count": 4,
      "outputs": []
    },
    {
      "cell_type": "code",
      "source": [
        "# 2\n",
        "with open('file.txt', 'r') as f:\n",
        "   for line in f:\n",
        "       print(line, end='')\n"
      ],
      "metadata": {
        "colab": {
          "base_uri": "https://localhost:8080/"
        },
        "id": "_cNczsUAwf5x",
        "outputId": "adc81261-9dd8-4871-8d5e-8ce0debc5b28"
      },
      "execution_count": 5,
      "outputs": [
        {
          "output_type": "stream",
          "name": "stdout",
          "text": [
            "Hello, world!"
          ]
        }
      ]
    },
    {
      "cell_type": "code",
      "source": [
        "# 3\n",
        "try:\n",
        "   with open('nofile.txt', 'r') as f:\n",
        "       content = f.read()\n",
        "except FileNotFoundError:\n",
        "   print(\"File not found!\")\n"
      ],
      "metadata": {
        "colab": {
          "base_uri": "https://localhost:8080/"
        },
        "id": "CW_px86Qwmq2",
        "outputId": "39557b16-8c3f-45b2-df26-cf6ffb26aeef"
      },
      "execution_count": 6,
      "outputs": [
        {
          "output_type": "stream",
          "name": "stdout",
          "text": [
            "File not found!\n"
          ]
        }
      ]
    },
    {
      "cell_type": "code",
      "source": [
        "# 4\n",
        "try:\n",
        "    with open('source.txt', 'r') as src, open('dest.txt', 'w') as dst:\n",
        "        dst.write(src.read())\n",
        "except FileNotFoundError:\n",
        "    print(\"Source file not found.\")\n",
        "except IOError as e:\n",
        "    print(f\"File error: {e}\")\n"
      ],
      "metadata": {
        "id": "-Q9gOTmpwqGs"
      },
      "execution_count": null,
      "outputs": []
    },
    {
      "cell_type": "code",
      "source": [
        "# 5\n",
        "try:\n",
        "   result = 10 / 0\n",
        "except ZeroDivisionError:\n",
        "   print(\"Cannot divide by zero!\")\n"
      ],
      "metadata": {
        "colab": {
          "base_uri": "https://localhost:8080/"
        },
        "id": "dNEkCtjhxCxV",
        "outputId": "d20e84de-ec57-4d11-faa6-a475c673fc99"
      },
      "execution_count": 8,
      "outputs": [
        {
          "output_type": "stream",
          "name": "stdout",
          "text": [
            "Cannot divide by zero!\n"
          ]
        }
      ]
    },
    {
      "cell_type": "code",
      "source": [
        "# 6\n",
        "import logging\n",
        "logging.basicConfig(filename='error.log', level=logging.ERROR)\n",
        "try:\n",
        "   x = 10 / 0\n",
        "except ZeroDivisionError:\n",
        "   logging.error(\"Division by zero error occurred\")\n"
      ],
      "metadata": {
        "colab": {
          "base_uri": "https://localhost:8080/"
        },
        "id": "WKLs_bmWxFi8",
        "outputId": "b8fdd394-0af7-46ef-c9f6-15815eac6420"
      },
      "execution_count": 9,
      "outputs": [
        {
          "output_type": "stream",
          "name": "stderr",
          "text": [
            "ERROR:root:Division by zero error occurred\n"
          ]
        }
      ]
    },
    {
      "cell_type": "code",
      "source": [
        "# 7\n",
        "import logging\n",
        "logging.basicConfig(level=logging.DEBUG)\n",
        "logging.info(\"This is info\")\n",
        "logging.error(\"This is error\")\n",
        "logging.warning(\"This is warning\")\n"
      ],
      "metadata": {
        "colab": {
          "base_uri": "https://localhost:8080/"
        },
        "id": "m4LHFDbUxHxj",
        "outputId": "483a53d1-12df-4f41-e70b-eaa381137ad4"
      },
      "execution_count": 10,
      "outputs": [
        {
          "output_type": "stream",
          "name": "stderr",
          "text": [
            "ERROR:root:This is error\n",
            "WARNING:root:This is warning\n"
          ]
        }
      ]
    },
    {
      "cell_type": "code",
      "source": [
        "# 8\n",
        "try:\n",
        "   with open('somefile.txt', 'r') as f:\n",
        "       print(f.read())\n",
        "except IOError:\n",
        "   print(\"Error opening file\")\n"
      ],
      "metadata": {
        "colab": {
          "base_uri": "https://localhost:8080/"
        },
        "id": "z1ZBC9jOxJ5b",
        "outputId": "0ac745c2-10e6-4d1f-9ec4-3418b293221c"
      },
      "execution_count": 11,
      "outputs": [
        {
          "output_type": "stream",
          "name": "stdout",
          "text": [
            "Error opening file\n"
          ]
        }
      ]
    },
    {
      "cell_type": "code",
      "source": [
        "# 9\n",
        "lines = []\n",
        "with open('file.txt', 'r') as f:\n",
        "   lines = f.readlines()\n"
      ],
      "metadata": {
        "id": "lNlEEvAOxPPE"
      },
      "execution_count": 12,
      "outputs": []
    },
    {
      "cell_type": "code",
      "source": [
        "# 10\n",
        "with open('file.txt', 'a') as f:\n",
        "   f.write(\"Appending this line\\n\")\n"
      ],
      "metadata": {
        "id": "XDRuSDBAxR_8"
      },
      "execution_count": 13,
      "outputs": []
    },
    {
      "cell_type": "code",
      "source": [
        "# 11\n",
        "d = {'a': 1}\n",
        "try:\n",
        "   print(d['b'])\n",
        "except KeyError:\n",
        "   print(\"Key not found!\")\n"
      ],
      "metadata": {
        "colab": {
          "base_uri": "https://localhost:8080/"
        },
        "id": "Uzr6Ri7XxVSk",
        "outputId": "9fc58412-b1c3-4881-c597-18940e17943b"
      },
      "execution_count": 14,
      "outputs": [
        {
          "output_type": "stream",
          "name": "stdout",
          "text": [
            "Key not found!\n"
          ]
        }
      ]
    },
    {
      "cell_type": "code",
      "source": [
        "# 12\n",
        "try:\n",
        "   x = 1 / 0\n",
        "   print(d['b'])\n",
        "except ZeroDivisionError:\n",
        "   print(\"Division by zero!\")\n",
        "except KeyError:\n",
        "   print(\"Key error!\")\n"
      ],
      "metadata": {
        "colab": {
          "base_uri": "https://localhost:8080/"
        },
        "id": "Yb76YejCxXfF",
        "outputId": "a06f38b2-779f-4ef8-985a-3e27bdc84aa0"
      },
      "execution_count": 15,
      "outputs": [
        {
          "output_type": "stream",
          "name": "stdout",
          "text": [
            "Division by zero!\n"
          ]
        }
      ]
    },
    {
      "cell_type": "code",
      "source": [
        "# 13\n",
        "import os\n",
        "if os.path.exists('file.txt'):\n",
        "   with open('file.txt') as f:\n",
        "       print(f.read())\n",
        "else:\n",
        "   print(\"File does not exist\")\n"
      ],
      "metadata": {
        "colab": {
          "base_uri": "https://localhost:8080/"
        },
        "id": "8Sv95N79xaM6",
        "outputId": "b2556b1b-129f-4a9f-e0ad-9fddf28bd2f7"
      },
      "execution_count": 16,
      "outputs": [
        {
          "output_type": "stream",
          "name": "stdout",
          "text": [
            "Hello, world!Appending this line\n",
            "\n"
          ]
        }
      ]
    },
    {
      "cell_type": "code",
      "source": [
        "# 14\n",
        "import logging\n",
        "logging.basicConfig(level=logging.INFO)\n",
        "logging.info(\"Info message\")\n",
        "logging.error(\"Error message\")\n"
      ],
      "metadata": {
        "colab": {
          "base_uri": "https://localhost:8080/"
        },
        "id": "-Mgv20kmxeFN",
        "outputId": "e18e6c17-5276-481c-d324-483fde6a8503"
      },
      "execution_count": 17,
      "outputs": [
        {
          "output_type": "stream",
          "name": "stderr",
          "text": [
            "ERROR:root:Error message\n"
          ]
        }
      ]
    },
    {
      "cell_type": "code",
      "source": [
        "# 15\n",
        "with open('file.txt', 'r') as f:\n",
        "   content = f.read()\n",
        "   if content:\n",
        "       print(content)\n",
        "   else:\n",
        "       print(\"File is empty\")\n"
      ],
      "metadata": {
        "colab": {
          "base_uri": "https://localhost:8080/"
        },
        "id": "qLjcDutxxfY1",
        "outputId": "8146230c-2a0a-42b0-c84e-0c515fffb93a"
      },
      "execution_count": 18,
      "outputs": [
        {
          "output_type": "stream",
          "name": "stdout",
          "text": [
            "Hello, world!Appending this line\n",
            "\n"
          ]
        }
      ]
    },
    {
      "cell_type": "code",
      "source": [
        "import logging\n",
        "from logging.handlers import RotatingFileHandler\n",
        "\n",
        "logger = logging.getLogger(\"MyLogger\")\n",
        "logger.setLevel(logging.DEBUG)\n",
        "\n",
        "handler = RotatingFileHandler(\"app.log\", maxBytes=1_000_000, backupCount=3)\n",
        "formatter = logging.Formatter('%(asctime)s - %(levelname)s - %(message)s')\n",
        "handler.setFormatter(formatter)\n",
        "\n",
        "logger.addHandler(handler)\n",
        "\n",
        "logger.info(\"This is an info message.\")\n",
        "logger.error(\"This is an error message.\")\n"
      ],
      "metadata": {
        "colab": {
          "base_uri": "https://localhost:8080/"
        },
        "id": "Tm1CyoaKxiwu",
        "outputId": "e01e4eca-32dc-49a3-b3c7-29d89c52859c"
      },
      "execution_count": 21,
      "outputs": [
        {
          "output_type": "stream",
          "name": "stderr",
          "text": [
            "INFO:MyLogger:This is an info message.\n",
            "ERROR:MyLogger:This is an error message.\n"
          ]
        }
      ]
    },
    {
      "cell_type": "code",
      "source": [
        "# 17\n",
        "numbers = [1, 2, 3, 4, 5]\n",
        "with open('numbers.txt', 'w') as f:\n",
        "   for num in numbers:\n",
        "       f.write(str(num) + '\\n')\n"
      ],
      "metadata": {
        "id": "LCOGr04Xx7sN"
      },
      "execution_count": 22,
      "outputs": []
    },
    {
      "cell_type": "code",
      "source": [
        "# 18\n",
        "import logging\n",
        "from logging.handlers import RotatingFileHandler\n",
        "\n",
        "logger = logging.getLogger()\n",
        "handler = RotatingFileHandler('app.log', maxBytes=1_000_000, backupCount=3)\n",
        "logger.addHandler(handler)\n",
        "logger.setLevel(logging.INFO)\n",
        "logger.info(\"This is a log message\")\n"
      ],
      "metadata": {
        "colab": {
          "base_uri": "https://localhost:8080/"
        },
        "id": "RbiATvuKx-xr",
        "outputId": "b7da0d4c-8661-4588-a8c7-e073528d92a6"
      },
      "execution_count": 23,
      "outputs": [
        {
          "output_type": "stream",
          "name": "stderr",
          "text": [
            "INFO:root:This is a log message\n"
          ]
        }
      ]
    },
    {
      "cell_type": "code",
      "source": [
        "# 19\n",
        "lst = [1, 2, 3]\n",
        "d = {'a': 1}\n",
        "try:\n",
        "   print(lst[5])\n",
        "   print(d['b'])\n",
        "except IndexError:\n",
        "   print(\"Index error caught\")\n",
        "except KeyError:\n",
        "   print(\"Key error caught\")\n"
      ],
      "metadata": {
        "colab": {
          "base_uri": "https://localhost:8080/"
        },
        "id": "8V1mdcFxyB5N",
        "outputId": "1d1088ea-fc6d-4c51-de8c-6498154dc9ec"
      },
      "execution_count": 24,
      "outputs": [
        {
          "output_type": "stream",
          "name": "stdout",
          "text": [
            "Index error caught\n"
          ]
        }
      ]
    },
    {
      "cell_type": "code",
      "source": [
        "# 20\n",
        "with open('file.txt', 'r') as f:\n",
        "   content = f.read()\n",
        "   print(content)\n"
      ],
      "metadata": {
        "colab": {
          "base_uri": "https://localhost:8080/"
        },
        "id": "9AfW8sO5yFGj",
        "outputId": "651e9af7-f95d-4a2d-a93c-933e6e53321f"
      },
      "execution_count": 25,
      "outputs": [
        {
          "output_type": "stream",
          "name": "stdout",
          "text": [
            "Hello, world!Appending this line\n",
            "\n"
          ]
        }
      ]
    },
    {
      "cell_type": "code",
      "source": [
        "# 21\n",
        "word = 'hello'\n",
        "count = 0\n",
        "with open('file.txt', 'r') as f:\n",
        "   for line in f:\n",
        "       count += line.lower().count(word)\n",
        "print(f\"The word '{word}' occurred {count} times.\")\n"
      ],
      "metadata": {
        "colab": {
          "base_uri": "https://localhost:8080/"
        },
        "id": "ezoplUjDyHPe",
        "outputId": "36bde66f-ef81-4fe1-fb24-f7dc72112639"
      },
      "execution_count": 26,
      "outputs": [
        {
          "output_type": "stream",
          "name": "stdout",
          "text": [
            "The word 'hello' occurred 1 times.\n"
          ]
        }
      ]
    },
    {
      "cell_type": "code",
      "source": [
        "# 22\n",
        "import os\n",
        "if os.path.exists('file.txt') and os.path.getsize('file.txt') > 0:\n",
        "   with open('file.txt') as f:\n",
        "       print(f.read())\n",
        "else:\n",
        "   print(\"File is empty or does not exist\")\n"
      ],
      "metadata": {
        "colab": {
          "base_uri": "https://localhost:8080/"
        },
        "id": "P11qLbyCyLXc",
        "outputId": "a19470ad-32fd-481c-e4cc-ee961e232822"
      },
      "execution_count": 27,
      "outputs": [
        {
          "output_type": "stream",
          "name": "stdout",
          "text": [
            "Hello, world!Appending this line\n",
            "\n"
          ]
        }
      ]
    },
    {
      "cell_type": "code",
      "source": [
        "# 23\n",
        "import logging\n",
        "logging.basicConfig(filename='file_errors.log', level=logging.ERROR)\n",
        "try:\n",
        "   with open('nofile.txt') as f:\n",
        "       data = f.read()\n",
        "except Exception as e:\n",
        "   logging.error(f\"Error occurred: {e}\")\n"
      ],
      "metadata": {
        "colab": {
          "base_uri": "https://localhost:8080/"
        },
        "id": "rolPWrQpyOAT",
        "outputId": "c9112acd-eb34-4911-8e9f-ec189a536163"
      },
      "execution_count": 28,
      "outputs": [
        {
          "output_type": "stream",
          "name": "stderr",
          "text": [
            "ERROR:root:Error occurred: [Errno 2] No such file or directory: 'nofile.txt'\n"
          ]
        }
      ]
    }
  ]
}